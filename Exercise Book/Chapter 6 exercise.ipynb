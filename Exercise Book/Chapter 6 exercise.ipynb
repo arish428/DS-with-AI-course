{
 "cells": [
  {
   "cell_type": "markdown",
   "metadata": {},
   "source": [
    "# 6-1"
   ]
  },
  {
   "cell_type": "code",
   "execution_count": 4,
   "metadata": {},
   "outputs": [
    {
     "name": "stdout",
     "output_type": "stream",
     "text": [
      "firstname :Arish \n",
      "lastname :Ilma \n",
      "age :23 \n",
      "city :karachi\n"
     ]
    }
   ],
   "source": [
    "person={'firstname':'Arish','lastname':'Ilma','age':23,'city':'karachi'}\n",
    "print('firstname :' + person['firstname'],\n",
    "      '\\nlastname :'+ person['lastname'],\n",
    "       '\\nage :' + str(person['age']),\n",
    "       '\\ncity :' + person['city'])"
   ]
  },
  {
   "cell_type": "markdown",
   "metadata": {},
   "source": [
    "# 6-2"
   ]
  },
  {
   "cell_type": "code",
   "execution_count": 11,
   "metadata": {},
   "outputs": [
    {
     "name": "stdout",
     "output_type": "stream",
     "text": [
      "Arish favourite number :21\n",
      "Ilma favourite number :22\n",
      "ali favourite number :23\n",
      "ahmed favourite number :24\n",
      "faiza favourite number :25\n"
     ]
    }
   ],
   "source": [
    "person={'Arish':21,'Ilma':22,'ali':23,'ahmed':24,'faiza':25}\n",
    "print('Arish', \"favourite number :\" + str(person['Arish']))\n",
    "print('Ilma' , \"favourite number :\" + str(person['Ilma']))\n",
    "print('ali'  , \"favourite number :\" + str(person['ali']))\n",
    "print('ahmed' ,\"favourite number :\" + str(person['ahmed']))\n",
    "print('faiza' , \"favourite number :\" + str(person['faiza']))\n"
   ]
  },
  {
   "cell_type": "markdown",
   "metadata": {},
   "source": [
    "# 6-3"
   ]
  },
  {
   "cell_type": "code",
   "execution_count": 13,
   "metadata": {},
   "outputs": [
    {
     "name": "stdout",
     "output_type": "stream",
     "text": [
      "command means order\n",
      "route means way\n",
      "result means outcome\n",
      "total means sum\n"
     ]
    }
   ],
   "source": [
    "glossary={'command':'order','route':'way','result':'outcome','total':'sum'}\n",
    "for k,v in glossary.items():\n",
    "    print(k+ \" means \" +v)\n",
    "\n"
   ]
  },
  {
   "cell_type": "markdown",
   "metadata": {},
   "source": [
    "# 6-5"
   ]
  },
  {
   "cell_type": "code",
   "execution_count": 23,
   "metadata": {},
   "outputs": [
    {
     "name": "stdout",
     "output_type": "stream",
     "text": [
      "\n",
      "The nile runs through egypt \n",
      "\n",
      "river :  nile\n",
      "country :  egypt\n",
      "\n",
      "The amazon runs through brazil \n",
      "\n",
      "river :  amazon\n",
      "country :  brazil\n",
      "\n",
      "The indus runs through pakistan \n",
      "\n",
      "river :  indus\n",
      "country :  pakistan\n",
      "\n",
      "The congo runs through Republic of congo \n",
      "\n",
      "river :  congo\n",
      "country :  Republic of congo\n"
     ]
    }
   ],
   "source": [
    "rivers={'nile':'egypt','amazon':'brazil','indus':'pakistan','congo':'Republic of congo'}\n",
    "for river,countries in rivers.items():\n",
    "    print(\"\\nThe\",river,\"runs through\",countries,\"\\n\")\n",
    "    print('river : ',river)\n",
    "    print('country : ',countries)"
   ]
  },
  {
   "cell_type": "markdown",
   "metadata": {},
   "source": [
    "# 6-6"
   ]
  },
  {
   "cell_type": "code",
   "execution_count": 32,
   "metadata": {},
   "outputs": [
    {
     "name": "stdout",
     "output_type": "stream",
     "text": [
      "These are names that should learn and take poll language : \n",
      "\n",
      "['jen', 'sarah', 'edward', 'phil', 'arish', 'ali']\n"
     ]
    }
   ],
   "source": [
    "listnames=[]\n",
    "favorite_languages = {\n",
    "'jen': 'python',\n",
    "'sarah': 'c',\n",
    "'edward': 'ruby',\n",
    "'phil': 'python',\n",
    "'arish': 'java',    \n",
    "'ali': 'javascript',    \n",
    "}\n",
    "\n",
    "for name,language in favorite_languages.items():\n",
    "    listnames.append(name)\n",
    "print(\"These are names that should learn and take poll language : \\n\")    \n",
    "print(listnames)"
   ]
  },
  {
   "cell_type": "markdown",
   "metadata": {},
   "source": [
    "# 6-7"
   ]
  },
  {
   "cell_type": "code",
   "execution_count": 36,
   "metadata": {},
   "outputs": [
    {
     "name": "stdout",
     "output_type": "stream",
     "text": [
      "{'firstname': 'Arish', 'lastname': 'khan', 'age': 23, 'city': 'karachi'}\n",
      "{'firstname': 'Muhib', 'lastname': 'ahsan', 'age': 28, 'city': 'lahore'}\n",
      "{'firstname': 'Ali', 'lastname': 'nawaz', 'age': 18, 'city': 'islamabad'}\n"
     ]
    }
   ],
   "source": [
    "peoples=[ {'firstname':'Arish','lastname':'khan','age':23,'city':'karachi'} ,\n",
    "         {'firstname':'Muhib','lastname':'ahsan','age':28,'city':'lahore'} ,\n",
    "         {'firstname':'Ali','lastname':'nawaz','age':18,'city':'islamabad'}\n",
    "       ]\n",
    "\n",
    "for people in peoples[0:]:\n",
    "    print(people)"
   ]
  },
  {
   "cell_type": "markdown",
   "metadata": {},
   "source": [
    "# 6-8"
   ]
  },
  {
   "cell_type": "code",
   "execution_count": 37,
   "metadata": {},
   "outputs": [
    {
     "name": "stdout",
     "output_type": "stream",
     "text": [
      "{'owner name': 'arish', 'pet type': 'Bull Dog'}\n",
      "{'owner name': 'fahad', 'pet type': 'Bull Dog'}\n",
      "{'owner name': 'ali', 'pet type': 'Bull Dog'}\n"
     ]
    }
   ],
   "source": [
    "tommy    = {'owner name':'arish','pet type':'Bull Dog'}\n",
    "blossom  = {'owner name':'fahad','pet type':'Bull Dog'}\n",
    "pluto    = {'owner name':'ali','pet type':'Bull Dog'}\n",
    "\n",
    "pets = [tommy,blossom,pluto]\n",
    "\n",
    "for pet in pets:\n",
    "    print(pet)"
   ]
  },
  {
   "cell_type": "markdown",
   "metadata": {},
   "source": [
    "# 6-9"
   ]
  },
  {
   "cell_type": "code",
   "execution_count": 38,
   "metadata": {},
   "outputs": [
    {
     "name": "stdout",
     "output_type": "stream",
     "text": [
      "['paf museum', 'zoo', 'winterland'] are in karachi\n",
      "['Quaid Residency', 'Pishin Valley', 'Quetta Museum'] are in quetta\n",
      "['Lahore Museum', 'Badshahi Mosque', 'Minar-e-Pakistan'] are in lahore\n"
     ]
    }
   ],
   "source": [
    "favorite_places = {'karachi':['paf museum','zoo','winterland'],\n",
    "                   'quetta':['Quaid Residency','Pishin Valley','Quetta Museum'],\n",
    "                   'lahore':['Lahore Museum','Badshahi Mosque','Minar-e-Pakistan']\n",
    "                    }\n",
    "\n",
    "for place,favorite_place in favorite_places.items():\n",
    "    print(favorite_place, \"are in\", place)"
   ]
  },
  {
   "cell_type": "markdown",
   "metadata": {},
   "source": [
    "# 6-10"
   ]
  },
  {
   "cell_type": "code",
   "execution_count": 39,
   "metadata": {},
   "outputs": [
    {
     "name": "stdout",
     "output_type": "stream",
     "text": [
      "Arish favourite numbers [1, 2, 3]\n",
      "Ilma favourite numbers [4, 5, 6]\n",
      "Muhib favourite numbers [7, 8, 9]\n"
     ]
    }
   ],
   "source": [
    "favorite_places = {'Arish':[1,2,3],\n",
    "                   'Ilma':[4,5,6],\n",
    "                   'Muhib':[7,8,9]\n",
    "                    }\n",
    "\n",
    "for name,favorite_number in favorite_places.items():\n",
    "    print(name,\"favourite numbers\",favorite_number)"
   ]
  },
  {
   "cell_type": "markdown",
   "metadata": {},
   "source": [
    "# 6-11"
   ]
  },
  {
   "cell_type": "code",
   "execution_count": 43,
   "metadata": {},
   "outputs": [
    {
     "name": "stdout",
     "output_type": "stream",
     "text": [
      "karachi {'pakistan': ['winterland', 'Quaid-e-azam tomb', 'Frere Hall']}\n",
      "bombay {'india': ['Marine Drive', 'Gateway of India', 'Haji Ali']}\n",
      "washing ton {'america': ['New York City', 'Chicago, Illinois', 'New Orleans']}\n"
     ]
    }
   ],
   "source": [
    "cities={'karachi':{'pakistan':['winterland','Quaid-e-azam tomb','Frere Hall']\n",
    "                  },\n",
    "        'bombay' :{'india':['Marine Drive','Gateway of India','Haji Ali']\n",
    "                  },\n",
    "        'washing ton' :{'america':['New York City','Chicago, Illinois','New Orleans']\n",
    "                       }\n",
    "                    }\n",
    "\n",
    "\n",
    "for keys1,keys2 in cities.items():\n",
    "    print(keys1,keys2)\n",
    "\n"
   ]
  },
  {
   "cell_type": "markdown",
   "metadata": {},
   "source": [
    "# 6-12"
   ]
  },
  {
   "cell_type": "code",
   "execution_count": 45,
   "metadata": {},
   "outputs": [
    {
     "name": "stdout",
     "output_type": "stream",
     "text": [
      "Arish favourite numbers [1, 2, 3]\n",
      "Ilma favourite numbers [4, 5, 6]\n",
      "Muhib favourite numbers [7, 8, 9]\n",
      "Aima favourite numbers [10, 11, 12]\n",
      "Ali favourite numbers [13, 14, 15]\n"
     ]
    }
   ],
   "source": [
    "favorite_places = {'Arish':[1,2,3],\n",
    "                   'Ilma':[4,5,6],\n",
    "                   'Muhib':[7,8,9],\n",
    "                   'Aima':[10,11,12],\n",
    "                   'Ali':[13,14,15]\n",
    "                    }\n",
    "\n",
    "for name,favorite_number in favorite_places.items():\n",
    "    print(name,\"favourite numbers\",favorite_number)"
   ]
  },
  {
   "cell_type": "code",
   "execution_count": null,
   "metadata": {},
   "outputs": [],
   "source": []
  },
  {
   "cell_type": "code",
   "execution_count": null,
   "metadata": {},
   "outputs": [],
   "source": []
  },
  {
   "cell_type": "code",
   "execution_count": null,
   "metadata": {},
   "outputs": [],
   "source": []
  },
  {
   "cell_type": "code",
   "execution_count": null,
   "metadata": {},
   "outputs": [],
   "source": []
  },
  {
   "cell_type": "code",
   "execution_count": null,
   "metadata": {},
   "outputs": [],
   "source": []
  },
  {
   "cell_type": "code",
   "execution_count": null,
   "metadata": {},
   "outputs": [],
   "source": []
  },
  {
   "cell_type": "code",
   "execution_count": null,
   "metadata": {},
   "outputs": [],
   "source": []
  },
  {
   "cell_type": "code",
   "execution_count": null,
   "metadata": {},
   "outputs": [],
   "source": []
  }
 ],
 "metadata": {
  "kernelspec": {
   "display_name": "Python 3",
   "language": "python",
   "name": "python3"
  },
  "language_info": {
   "codemirror_mode": {
    "name": "ipython",
    "version": 3
   },
   "file_extension": ".py",
   "mimetype": "text/x-python",
   "name": "python",
   "nbconvert_exporter": "python",
   "pygments_lexer": "ipython3",
   "version": "3.8.5"
  }
 },
 "nbformat": 4,
 "nbformat_minor": 4
}
