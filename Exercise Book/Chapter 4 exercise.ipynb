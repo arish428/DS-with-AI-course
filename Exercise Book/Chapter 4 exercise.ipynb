{
 "cells": [
  {
   "cell_type": "markdown",
   "metadata": {},
   "source": [
    "#  4-1"
   ]
  },
  {
   "cell_type": "code",
   "execution_count": 4,
   "metadata": {},
   "outputs": [
    {
     "name": "stdout",
     "output_type": "stream",
     "text": [
      "I like pepproni\n",
      "I like BBQ\n",
      "I like fajita\n",
      "I like pizzas\n"
     ]
    }
   ],
   "source": [
    "pizzas = ['pepproni', 'BBQ', 'fajita']\n",
    "for pizza in pizzas:\n",
    "    print(\"I like\" , pizza)\n",
    "print(\"I like pizzas\")"
   ]
  },
  {
   "cell_type": "markdown",
   "metadata": {},
   "source": [
    "# 4-2"
   ]
  },
  {
   "cell_type": "code",
   "execution_count": 7,
   "metadata": {},
   "outputs": [
    {
     "name": "stdout",
     "output_type": "stream",
     "text": [
      "A Dog would make a great pet.\n",
      "A cat would make a great pet.\n",
      "A Parrot would make a great pet.\n",
      "\n",
      "All would make a great pet\n"
     ]
    }
   ],
   "source": [
    "pets = ['Dog', 'cat', 'Parrot']\n",
    "for pet in pets:\n",
    "    print('A', pet, 'would make a great pet.')\n",
    "print(\"\\nAll would make a great pet\")"
   ]
  },
  {
   "cell_type": "markdown",
   "metadata": {},
   "source": [
    "# 4-3"
   ]
  },
  {
   "cell_type": "code",
   "execution_count": 13,
   "metadata": {},
   "outputs": [
    {
     "name": "stdout",
     "output_type": "stream",
     "text": [
      "1\n",
      "2\n",
      "3\n",
      "4\n",
      "5\n",
      "6\n",
      "7\n",
      "8\n",
      "9\n",
      "10\n",
      "11\n",
      "12\n",
      "13\n",
      "14\n",
      "15\n",
      "16\n",
      "17\n",
      "18\n",
      "19\n",
      "20\n"
     ]
    }
   ],
   "source": [
    "for value in range(1,21):\n",
    "    a=print(value)\n"
   ]
  },
  {
   "cell_type": "markdown",
   "metadata": {},
   "source": [
    "# 4-4"
   ]
  },
  {
   "cell_type": "code",
   "execution_count": null,
   "metadata": {},
   "outputs": [],
   "source": [
    "for value in range(1,1000000):\n",
    "    a=print(value)\n"
   ]
  },
  {
   "cell_type": "markdown",
   "metadata": {},
   "source": [
    "# 4-5"
   ]
  },
  {
   "cell_type": "code",
   "execution_count": null,
   "metadata": {},
   "outputs": [],
   "source": [
    "for value in range(1,1000000):\n",
    "    print(value)\n",
    "max(value)\n",
    "min(value)\n",
    "sum(value)"
   ]
  },
  {
   "cell_type": "markdown",
   "metadata": {},
   "source": [
    "# 4-6"
   ]
  },
  {
   "cell_type": "code",
   "execution_count": 20,
   "metadata": {},
   "outputs": [
    {
     "name": "stdout",
     "output_type": "stream",
     "text": [
      "1\n",
      "3\n",
      "5\n",
      "7\n",
      "9\n",
      "11\n",
      "13\n",
      "15\n",
      "17\n",
      "19\n"
     ]
    }
   ],
   "source": [
    "for value in range(1,20,2):\n",
    "    a=print(value)"
   ]
  },
  {
   "cell_type": "markdown",
   "metadata": {},
   "source": [
    "# 4-7"
   ]
  },
  {
   "cell_type": "code",
   "execution_count": 24,
   "metadata": {},
   "outputs": [
    {
     "name": "stdout",
     "output_type": "stream",
     "text": [
      "9\n",
      "12\n",
      "15\n",
      "18\n",
      "21\n",
      "24\n",
      "27\n",
      "30\n",
      "33\n",
      "36\n",
      "39\n",
      "42\n",
      "45\n",
      "48\n",
      "51\n",
      "54\n",
      "57\n",
      "60\n",
      "63\n",
      "66\n",
      "69\n",
      "72\n",
      "75\n",
      "78\n",
      "81\n",
      "84\n",
      "87\n"
     ]
    }
   ],
   "source": [
    "for value in range(3,30):\n",
    "    a=value*3\n",
    "    print(a)"
   ]
  },
  {
   "cell_type": "markdown",
   "metadata": {},
   "source": [
    "# 4-8"
   ]
  },
  {
   "cell_type": "code",
   "execution_count": 35,
   "metadata": {},
   "outputs": [
    {
     "name": "stdout",
     "output_type": "stream",
     "text": [
      "1\n",
      "8\n",
      "27\n",
      "64\n",
      "125\n",
      "216\n",
      "343\n",
      "512\n",
      "729\n",
      "1000\n"
     ]
    }
   ],
   "source": [
    "for value in range(1,11):\n",
    "    a=value**3\n",
    "    print(a)"
   ]
  },
  {
   "cell_type": "markdown",
   "metadata": {},
   "source": [
    "# 4-9"
   ]
  },
  {
   "cell_type": "code",
   "execution_count": 31,
   "metadata": {},
   "outputs": [
    {
     "name": "stdout",
     "output_type": "stream",
     "text": [
      "[1, 8, 27, 64, 125, 216, 343, 512, 729, 1000]\n"
     ]
    }
   ],
   "source": [
    "List=[value**3 for value in range(1,11)]\n",
    "print(List)"
   ]
  },
  {
   "cell_type": "markdown",
   "metadata": {},
   "source": [
    "# 4-10"
   ]
  },
  {
   "cell_type": "code",
   "execution_count": 9,
   "metadata": {},
   "outputs": [
    {
     "name": "stdout",
     "output_type": "stream",
     "text": [
      "Dog\n",
      "cat\n",
      "lion\n",
      "monkey\n",
      "tiger\n",
      "zebra\n",
      "girrafe\n",
      "bigcat\n",
      "snake\n"
     ]
    }
   ],
   "source": [
    "lista=['Dog','cat','lion','monkey','tiger','zebra','girrafe','bigcat','snake']\n",
    "for list in lista[:3]:\n",
    "    print(list)\n",
    "\n",
    "for list in lista[3:6]:\n",
    "    print(list)\n",
    "\n",
    "for list in lista[6:]:\n",
    "    print(list)"
   ]
  },
  {
   "cell_type": "markdown",
   "metadata": {},
   "source": [
    "# 4-11"
   ]
  },
  {
   "cell_type": "code",
   "execution_count": 32,
   "metadata": {},
   "outputs": [
    {
     "name": "stdout",
     "output_type": "stream",
     "text": [
      "my pizza list\t ['pepproni', 'BBQ', 'fajita']\n",
      "friend pizza list\t ['pepproni', 'BBQ', 'fajita']\n",
      "my pizza list\t ['pepproni', 'BBQ', 'fajita', 'tandoori']\n",
      "friend pizza list\t ['pepproni', 'BBQ', 'fajita', 'cheesy']\n",
      "\n",
      "my favourite pizzas\n",
      "\n",
      "pepproni\n",
      "BBQ\n",
      "fajita\n",
      "tandoori\n",
      "\n",
      "my friends favourite pizzas\n",
      "\n",
      "pepproni\n",
      "BBQ\n",
      "fajita\n",
      "cheesy\n"
     ]
    }
   ],
   "source": [
    "pizzas = ['pepproni', 'BBQ', 'fajita']\n",
    "friend_pizzas=pizzas[:]\n",
    "print('my pizza list\\t',pizzas)\n",
    "print('friend pizza list\\t',friend_pizzas)\n",
    "pizzas.append('tandoori')\n",
    "print('my pizza list\\t',pizzas)\n",
    "friend_pizzas.append('cheesy')\n",
    "print('friend pizza list\\t',friend_pizzas)\n",
    "\n",
    "\n",
    "print('\\nmy favourite pizzas\\n')\n",
    "for pizza in pizzas:\n",
    "    print(pizza)   \n",
    "print('\\nmy friends favourite pizzas\\n')    \n",
    "for friend_pizza in friend_pizzas:\n",
    "    print(friend_pizza)"
   ]
  },
  {
   "cell_type": "markdown",
   "metadata": {},
   "source": [
    "# 4-12"
   ]
  },
  {
   "cell_type": "code",
   "execution_count": 35,
   "metadata": {},
   "outputs": [
    {
     "name": "stdout",
     "output_type": "stream",
     "text": [
      "pepproni\n",
      "BBQ\n",
      "fajita\n",
      "orange\n",
      "mango\n",
      "banana\n"
     ]
    }
   ],
   "source": [
    "pizzas = ['pepproni', 'BBQ', 'fajita']\n",
    "for pizza in pizzas:\n",
    "    print(pizza)\n",
    "    \n",
    "fruits = ['orange', 'mango', 'banana']\n",
    "for fruit in fruits:\n",
    "    print(fruit)    "
   ]
  },
  {
   "cell_type": "markdown",
   "metadata": {},
   "source": [
    "# 4-13"
   ]
  },
  {
   "cell_type": "code",
   "execution_count": 36,
   "metadata": {},
   "outputs": [
    {
     "name": "stdout",
     "output_type": "stream",
     "text": [
      "Foods Menu:\n",
      "nan\n",
      "butter\n",
      "chai\n",
      "\n",
      "Menu changed:\n",
      "nan\n",
      "butter\n",
      "chai\n",
      "chicken\n"
     ]
    }
   ],
   "source": [
    "foods = ('nan','butter','chai')\n",
    "print(\"Foods Menu:\")\n",
    "for food in foods:\n",
    "    print(food)\n",
    "foods = ('nan','butter','chai','chicken')\n",
    "print(\"\\nMenu changed:\")\n",
    "for food in foods:\n",
    "    print(food)"
   ]
  },
  {
   "cell_type": "code",
   "execution_count": null,
   "metadata": {},
   "outputs": [],
   "source": []
  },
  {
   "cell_type": "code",
   "execution_count": null,
   "metadata": {},
   "outputs": [],
   "source": []
  },
  {
   "cell_type": "code",
   "execution_count": null,
   "metadata": {},
   "outputs": [],
   "source": []
  }
 ],
 "metadata": {
  "kernelspec": {
   "display_name": "Python 3",
   "language": "python",
   "name": "python3"
  },
  "language_info": {
   "codemirror_mode": {
    "name": "ipython",
    "version": 3
   },
   "file_extension": ".py",
   "mimetype": "text/x-python",
   "name": "python",
   "nbconvert_exporter": "python",
   "pygments_lexer": "ipython3",
   "version": "3.8.5"
  }
 },
 "nbformat": 4,
 "nbformat_minor": 4
}
