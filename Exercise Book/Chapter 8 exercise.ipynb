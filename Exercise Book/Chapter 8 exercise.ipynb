{
 "cells": [
  {
   "cell_type": "markdown",
   "metadata": {},
   "source": [
    "# 8-1"
   ]
  },
  {
   "cell_type": "code",
   "execution_count": 2,
   "metadata": {},
   "outputs": [],
   "source": [
    "def detail():\n",
    "    print(\"My name is arish khan and i am student of DATA SCIENCE\")\n",
    "  "
   ]
  },
  {
   "cell_type": "code",
   "execution_count": 3,
   "metadata": {},
   "outputs": [
    {
     "name": "stdout",
     "output_type": "stream",
     "text": [
      "My name is arish khan and i am student of DATA SCIENCE\n"
     ]
    }
   ],
   "source": [
    "detail()"
   ]
  },
  {
   "cell_type": "markdown",
   "metadata": {},
   "source": [
    "# 8-2  "
   ]
  },
  {
   "cell_type": "code",
   "execution_count": 7,
   "metadata": {},
   "outputs": [],
   "source": [
    "def favourite_book(stri):\n",
    "    print(\"favourite book is \"+ stri.title())"
   ]
  },
  {
   "cell_type": "code",
   "execution_count": 9,
   "metadata": {},
   "outputs": [
    {
     "name": "stdout",
     "output_type": "stream",
     "text": [
      "favourite book is Oliver Twist\n"
     ]
    }
   ],
   "source": [
    "favourite_book('oliver twist')"
   ]
  },
  {
   "cell_type": "markdown",
   "metadata": {},
   "source": [
    "# 8-4"
   ]
  },
  {
   "cell_type": "code",
   "execution_count": 17,
   "metadata": {},
   "outputs": [],
   "source": [
    "def make_shirt(text,size=0):\n",
    "    if text ==\"i love python\":\n",
    "        \n",
    "        print(\"Your short is to large\")\n",
    "    else:\n",
    "        print(text+\" \"+str(size)) "
   ]
  },
  {
   "cell_type": "code",
   "execution_count": 18,
   "metadata": {},
   "outputs": [
    {
     "name": "stdout",
     "output_type": "stream",
     "text": [
      "shirt size is 22\n",
      "Your short is to large\n"
     ]
    }
   ],
   "source": [
    "make_shirt(\"shirt size is\",size=22)\n",
    "make_shirt(\"i love python\",size=22)"
   ]
  },
  {
   "cell_type": "markdown",
   "metadata": {},
   "source": [
    "\n",
    "# 8-3"
   ]
  },
  {
   "cell_type": "code",
   "execution_count": 13,
   "metadata": {},
   "outputs": [],
   "source": [
    "def shirt(text,size=0):\n",
    "    \n",
    "    print(text+\" with size is \"+str(size))\n"
   ]
  },
  {
   "cell_type": "code",
   "execution_count": 14,
   "metadata": {},
   "outputs": [
    {
     "name": "stdout",
     "output_type": "stream",
     "text": [
      "casual shirt with size is 25\n"
     ]
    }
   ],
   "source": [
    "shirt(\"casual shirt\",size=25)"
   ]
  },
  {
   "cell_type": "markdown",
   "metadata": {},
   "source": [
    "# 8-5"
   ]
  },
  {
   "cell_type": "code",
   "execution_count": 21,
   "metadata": {},
   "outputs": [],
   "source": [
    "def city(city,country=' .....'):\n",
    "    print(city+\" present in \"+country)\n"
   ]
  },
  {
   "cell_type": "code",
   "execution_count": 22,
   "metadata": {},
   "outputs": [
    {
     "name": "stdout",
     "output_type": "stream",
     "text": [
      "bombay present in india\n",
      "delhi present in  .....\n"
     ]
    }
   ],
   "source": [
    "city(\"bombay\",\"india\")\n",
    "city(\"delhi\")"
   ]
  },
  {
   "cell_type": "markdown",
   "metadata": {},
   "source": [
    "# 8-6"
   ]
  },
  {
   "cell_type": "code",
   "execution_count": 26,
   "metadata": {},
   "outputs": [],
   "source": [
    "def city_country(city,country):\n",
    "    print(city,\"in\",country)\n"
   ]
  },
  {
   "cell_type": "code",
   "execution_count": 27,
   "metadata": {},
   "outputs": [
    {
     "name": "stdout",
     "output_type": "stream",
     "text": [
      "washington in america\n"
     ]
    }
   ],
   "source": [
    "city_country(\"washington\",\"america\")"
   ]
  },
  {
   "cell_type": "code",
   "execution_count": null,
   "metadata": {},
   "outputs": [],
   "source": [
    "8-7"
   ]
  },
  {
   "cell_type": "code",
   "execution_count": 28,
   "metadata": {},
   "outputs": [
    {
     "name": "stdout",
     "output_type": "stream",
     "text": [
      "{'Atif': 'Wo lamhay', 0: 'no track found'}\n",
      "{'Alizafar': 'Bhai hazir hay', 0: 'no track found'}\n",
      "{'Argeet': 'tum ho', 2: 2}\n",
      "[{'Atif': 'Wo lamhay', 0: 'no track found'}, {'Alizafar': 'Bhai hazir hay', 0: 'no track found'}, {'Argeet': 'tum ho', 2: 2}]\n"
     ]
    }
   ],
   "source": [
    "albulm_list=[]\n",
    "def make_album(artistname,title,track=0):\n",
    "    album_dic={}\n",
    "    album_dic[artistname]=title\n",
    "    album_dic[track]=number_of_track(track)\n",
    "    albulm_list.append(album_dic)\n",
    "    return album_dic\n",
    "def number_of_track(num=0):\n",
    "    if num !=0:\n",
    "        return num\n",
    "    else:\n",
    "        return \"no track found\"    \n",
    "\n",
    "    \n",
    "\n",
    "print(make_album(\"Atif\",\"Wo lamhay\"))    \n",
    "print(make_album(\"Alizafar\",\"Bhai hazir hay\")) \n",
    "print(make_album(\"Argeet\",\"tum ho\",2)) \n",
    "print(albulm_list)"
   ]
  },
  {
   "cell_type": "markdown",
   "metadata": {},
   "source": [
    "# 8-8"
   ]
  },
  {
   "cell_type": "code",
   "execution_count": null,
   "metadata": {},
   "outputs": [
    {
     "name": "stdout",
     "output_type": "stream",
     "text": [
      "Enter Artist Name or Q to exitalizafar\n",
      "Enter title namepollard\n",
      "Enter trackquit\n",
      "{'alizafar': 'pollard', 'quit': 'quit'}\n"
     ]
    }
   ],
   "source": [
    "albulm_list=[]\n",
    "def make_album(artistname,title,track=0):\n",
    "    album_dic={}\n",
    "    album_dic[artistname]=title\n",
    "    album_dic[track]=number_of_track(track)\n",
    "    albulm_list.append(album_dic)\n",
    "    return album_dic\n",
    "def number_of_track(num=0):\n",
    "    if num !=0:\n",
    "        return num\n",
    "    else:\n",
    "        return \"no track found\"\n",
    "condition=True\n",
    "while condition:\n",
    "    ArtistName=input(\"Enter Artist Name or Q to exit\")\n",
    "    if  ArtistName !=\"q\" :\n",
    "\n",
    "        TItle=input(\"Enter title name\")\n",
    "        Track=input(\"Enter track\")\n",
    "        result=make_album(ArtistName,TItle,Track)\n",
    "    else:\n",
    "        condition=False    \n",
    "    print(result)"
   ]
  },
  {
   "cell_type": "code",
   "execution_count": null,
   "metadata": {},
   "outputs": [],
   "source": []
  },
  {
   "cell_type": "code",
   "execution_count": null,
   "metadata": {},
   "outputs": [],
   "source": []
  }
 ],
 "metadata": {
  "kernelspec": {
   "display_name": "Python 3",
   "language": "python",
   "name": "python3"
  },
  "language_info": {
   "codemirror_mode": {
    "name": "ipython",
    "version": 3
   },
   "file_extension": ".py",
   "mimetype": "text/x-python",
   "name": "python",
   "nbconvert_exporter": "python",
   "pygments_lexer": "ipython3",
   "version": "3.8.5"
  }
 },
 "nbformat": 4,
 "nbformat_minor": 4
}
