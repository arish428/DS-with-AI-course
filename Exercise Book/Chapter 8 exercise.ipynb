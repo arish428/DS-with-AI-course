{
 "cells": [
  {
   "cell_type": "markdown",
   "metadata": {},
   "source": [
    "# 8-1"
   ]
  },
  {
   "cell_type": "code",
   "execution_count": 2,
   "metadata": {},
   "outputs": [],
   "source": [
    "def detail():\n",
    "    print(\"My name is arish khan and i am student of DATA SCIENCE\")\n",
    "  "
   ]
  },
  {
   "cell_type": "code",
   "execution_count": 3,
   "metadata": {},
   "outputs": [
    {
     "name": "stdout",
     "output_type": "stream",
     "text": [
      "My name is arish khan and i am student of DATA SCIENCE\n"
     ]
    }
   ],
   "source": [
    "detail()"
   ]
  },
  {
   "cell_type": "markdown",
   "metadata": {},
   "source": [
    "# 8-2  "
   ]
  },
  {
   "cell_type": "code",
   "execution_count": 7,
   "metadata": {},
   "outputs": [],
   "source": [
    "def favourite_book(stri):\n",
    "    print(\"favourite book is \"+ stri.title())"
   ]
  },
  {
   "cell_type": "code",
   "execution_count": 9,
   "metadata": {},
   "outputs": [
    {
     "name": "stdout",
     "output_type": "stream",
     "text": [
      "favourite book is Oliver Twist\n"
     ]
    }
   ],
   "source": [
    "favourite_book('oliver twist')"
   ]
  },
  {
   "cell_type": "markdown",
   "metadata": {},
   "source": [
    "# 8-4"
   ]
  },
  {
   "cell_type": "code",
   "execution_count": 17,
   "metadata": {},
   "outputs": [],
   "source": [
    "def make_shirt(text,size=0):\n",
    "    if text ==\"i love python\":\n",
    "        \n",
    "        print(\"Your short is to large\")\n",
    "    else:\n",
    "        print(text+\" \"+str(size)) "
   ]
  },
  {
   "cell_type": "code",
   "execution_count": 18,
   "metadata": {},
   "outputs": [
    {
     "name": "stdout",
     "output_type": "stream",
     "text": [
      "shirt size is 22\n",
      "Your short is to large\n"
     ]
    }
   ],
   "source": [
    "make_shirt(\"shirt size is\",size=22)\n",
    "make_shirt(\"i love python\",size=22)"
   ]
  },
  {
   "cell_type": "markdown",
   "metadata": {},
   "source": [
    "\n",
    "# 8-3"
   ]
  },
  {
   "cell_type": "code",
   "execution_count": 13,
   "metadata": {},
   "outputs": [],
   "source": [
    "def shirt(text,size=0):\n",
    "    \n",
    "    print(text+\" with size is \"+str(size))\n"
   ]
  },
  {
   "cell_type": "code",
   "execution_count": 14,
   "metadata": {},
   "outputs": [
    {
     "name": "stdout",
     "output_type": "stream",
     "text": [
      "casual shirt with size is 25\n"
     ]
    }
   ],
   "source": [
    "shirt(\"casual shirt\",size=25)"
   ]
  },
  {
   "cell_type": "markdown",
   "metadata": {},
   "source": [
    "# 8-5"
   ]
  },
  {
   "cell_type": "code",
   "execution_count": 21,
   "metadata": {},
   "outputs": [],
   "source": [
    "def city(city,country=' .....'):\n",
    "    print(city+\" present in \"+country)\n"
   ]
  },
  {
   "cell_type": "code",
   "execution_count": 22,
   "metadata": {},
   "outputs": [
    {
     "name": "stdout",
     "output_type": "stream",
     "text": [
      "bombay present in india\n",
      "delhi present in  .....\n"
     ]
    }
   ],
   "source": [
    "city(\"bombay\",\"india\")\n",
    "city(\"delhi\")"
   ]
  },
  {
   "cell_type": "markdown",
   "metadata": {},
   "source": [
    "# 8-6"
   ]
  },
  {
   "cell_type": "code",
   "execution_count": 26,
   "metadata": {},
   "outputs": [],
   "source": [
    "def city_country(city,country):\n",
    "    print(city,\"in\",country)\n"
   ]
  },
  {
   "cell_type": "code",
   "execution_count": 27,
   "metadata": {},
   "outputs": [
    {
     "name": "stdout",
     "output_type": "stream",
     "text": [
      "washington in america\n"
     ]
    }
   ],
   "source": [
    "city_country(\"washington\",\"america\")"
   ]
  },
  {
   "cell_type": "markdown",
   "metadata": {},
   "source": [
    "# 8-7"
   ]
  },
  {
   "cell_type": "code",
   "execution_count": 28,
   "metadata": {},
   "outputs": [
    {
     "name": "stdout",
     "output_type": "stream",
     "text": [
      "{'Atif': 'Wo lamhay', 0: 'no track found'}\n",
      "{'Alizafar': 'Bhai hazir hay', 0: 'no track found'}\n",
      "{'Argeet': 'tum ho', 2: 2}\n",
      "[{'Atif': 'Wo lamhay', 0: 'no track found'}, {'Alizafar': 'Bhai hazir hay', 0: 'no track found'}, {'Argeet': 'tum ho', 2: 2}]\n"
     ]
    }
   ],
   "source": [
    "albulm_list=[]\n",
    "def make_album(artistname,title,track=0):\n",
    "    album_dic={}\n",
    "    album_dic[artistname]=title\n",
    "    album_dic[track]=number_of_track(track)\n",
    "    albulm_list.append(album_dic)\n",
    "    return album_dic\n",
    "def number_of_track(num=0):\n",
    "    if num !=0:\n",
    "        return num\n",
    "    else:\n",
    "        return \"no track found\"    \n",
    "\n",
    "    \n",
    "\n",
    "print(make_album(\"Atif\",\"Wo lamhay\"))    \n",
    "print(make_album(\"Alizafar\",\"Bhai hazir hay\")) \n",
    "print(make_album(\"Argeet\",\"tum ho\",2)) \n",
    "print(albulm_list)"
   ]
  },
  {
   "cell_type": "markdown",
   "metadata": {},
   "source": [
    "# 8-8"
   ]
  },
  {
   "cell_type": "code",
   "execution_count": null,
   "metadata": {},
   "outputs": [
    {
     "name": "stdout",
     "output_type": "stream",
     "text": [
      "Enter Artist Name or Q to exitalizafar\n",
      "Enter title namepollard\n",
      "Enter trackquit\n",
      "{'alizafar': 'pollard', 'quit': 'quit'}\n"
     ]
    }
   ],
   "source": [
    "albulm_list=[]\n",
    "def make_album(artistname,title,track=0):\n",
    "    album_dic={}\n",
    "    album_dic[artistname]=title\n",
    "    album_dic[track]=number_of_track(track)\n",
    "    albulm_list.append(album_dic)\n",
    "    return album_dic\n",
    "def number_of_track(num=0):\n",
    "    if num !=0:\n",
    "        return num\n",
    "    else:\n",
    "        return \"no track found\"\n",
    "condition=True\n",
    "while condition:\n",
    "    ArtistName=input(\"Enter Artist Name or Q to exit\")\n",
    "    if  ArtistName !=\"q\" :\n",
    "\n",
    "        TItle=input(\"Enter title name\")\n",
    "        Track=input(\"Enter track\")\n",
    "        result=make_album(ArtistName,TItle,Track)\n",
    "    else:\n",
    "        condition=False    \n",
    "    print(result)"
   ]
  },
  {
   "cell_type": "markdown",
   "metadata": {},
   "source": [
    "# 8-9"
   ]
  },
  {
   "cell_type": "code",
   "execution_count": 5,
   "metadata": {},
   "outputs": [],
   "source": [
    "def show_magicians(magician_names):\n",
    "    print('These are the names of the magicians:\\n')\n",
    "    for magician_name in magician_names:\n",
    "        print(\"-\",magician_name)"
   ]
  },
  {
   "cell_type": "code",
   "execution_count": 6,
   "metadata": {},
   "outputs": [
    {
     "name": "stdout",
     "output_type": "stream",
     "text": [
      "These are the names of the magicians:\n",
      "\n",
      "- arish\n",
      "- saira\n",
      "- ali\n",
      "- ahmed\n",
      "- saad\n"
     ]
    }
   ],
   "source": [
    "magician_names = ['arish','saira','ali','ahmed','saad']\n",
    "show_magicians(magician_names)"
   ]
  },
  {
   "cell_type": "markdown",
   "metadata": {},
   "source": [
    "# 8-10"
   ]
  },
  {
   "cell_type": "code",
   "execution_count": 23,
   "metadata": {},
   "outputs": [],
   "source": [
    "def make_great(magician_names):\n",
    "    for greet_magician_name in magician_names:\n",
    "        print(\"The Great!\\t\",greet_magician_name)"
   ]
  },
  {
   "cell_type": "code",
   "execution_count": 24,
   "metadata": {},
   "outputs": [
    {
     "name": "stdout",
     "output_type": "stream",
     "text": [
      "These are the names of the magicians:\n",
      "\n",
      "- arish\n",
      "- saira\n",
      "- ali\n",
      "- ahmed\n",
      "- saad\n"
     ]
    }
   ],
   "source": [
    "magician_names = ['arish','saira','ali','ahmed','saad']\n",
    "show_magicians(magician_names[:])"
   ]
  },
  {
   "cell_type": "code",
   "execution_count": 25,
   "metadata": {},
   "outputs": [
    {
     "name": "stdout",
     "output_type": "stream",
     "text": [
      "The Great!\t arish\n",
      "The Great!\t saira\n",
      "The Great!\t ali\n",
      "The Great!\t ahmed\n",
      "The Great!\t saad\n"
     ]
    }
   ],
   "source": [
    "magician_names = ['arish','saira','ali','ahmed','saad']\n",
    "make_great(magician_names)"
   ]
  },
  {
   "cell_type": "markdown",
   "metadata": {},
   "source": [
    "# 8-11"
   ]
  },
  {
   "cell_type": "code",
   "execution_count": 30,
   "metadata": {},
   "outputs": [],
   "source": [
    "def make_great(magician_names,new_list):\n",
    "    modified_list = magician_names[:]\n",
    "    modified_list.append(new_list)\n",
    "    print(\"original list: \",magician_names)\n",
    "    print(\"modified list: \",modified_list)\n",
    "    print(\"original list: \",magician_names)"
   ]
  },
  {
   "cell_type": "code",
   "execution_count": 31,
   "metadata": {},
   "outputs": [
    {
     "name": "stdout",
     "output_type": "stream",
     "text": [
      "original list:  [2, 4, 6, 8]\n",
      "modified list:  [2, 4, 6, 8, [3, 5, 7, 9]]\n",
      "original list:  [2, 4, 6, 8]\n"
     ]
    }
   ],
   "source": [
    "make_great([2,4,6,8],[3,5,7,9])"
   ]
  },
  {
   "cell_type": "markdown",
   "metadata": {},
   "source": [
    "# 8-12"
   ]
  },
  {
   "cell_type": "code",
   "execution_count": 4,
   "metadata": {},
   "outputs": [],
   "source": [
    "def make_sandwich(*toppings):\n",
    "    print(f\"\\nYour ordered sandwich is now ready with these toppings.....\\n\")\n",
    "    for topping in toppings:\n",
    "        print(\" - \" + topping)"
   ]
  },
  {
   "cell_type": "code",
   "execution_count": 5,
   "metadata": {},
   "outputs": [
    {
     "name": "stdout",
     "output_type": "stream",
     "text": [
      "\n",
      "Your ordered sandwich is now ready with these toppings.....\n",
      "\n",
      " - cheese\n",
      " - chicken\n",
      " - ketchup\n",
      " - chilli\n",
      " - sauce\n"
     ]
    }
   ],
   "source": [
    "make_sandwich('cheese','chicken','ketchup','chilli','sauce')"
   ]
  },
  {
   "cell_type": "markdown",
   "metadata": {},
   "source": [
    "# 8-13"
   ]
  },
  {
   "cell_type": "code",
   "execution_count": 8,
   "metadata": {},
   "outputs": [],
   "source": [
    "def build_profile(first, last, **user_info):\n",
    "    profile = {}\n",
    "    profile['first_name'] = first\n",
    "    profile['last_name'] = last\n",
    "    for key, value in user_info.items():\n",
    "        profile[key] = value\n",
    "    return profile"
   ]
  },
  {
   "cell_type": "code",
   "execution_count": 9,
   "metadata": {},
   "outputs": [
    {
     "data": {
      "text/plain": [
       "{'first_name': 'arish',\n",
       " 'last_name': 'khan',\n",
       " 'location': 'johar',\n",
       " 'email': 'arishk103@gmail.com'}"
      ]
     },
     "execution_count": 9,
     "metadata": {},
     "output_type": "execute_result"
    }
   ],
   "source": [
    "build_profile('arish','khan',location='johar',email='arishk103@gmail.com',)"
   ]
  },
  {
   "cell_type": "markdown",
   "metadata": {},
   "source": [
    "# 8-14"
   ]
  },
  {
   "cell_type": "code",
   "execution_count": 13,
   "metadata": {},
   "outputs": [],
   "source": [
    "def car_make(manufacture, modelname, **carinfo):\n",
    "    profile = {}\n",
    "    profile['Car manufacterer'] = manufacture\n",
    "    profile['car model'] = modelname\n",
    "    for key, value in carinfo.items():\n",
    "        profile[key] = value\n",
    "    return profile\n",
    "    "
   ]
  },
  {
   "cell_type": "code",
   "execution_count": 14,
   "metadata": {},
   "outputs": [
    {
     "data": {
      "text/plain": [
       "{'Car manufacterer': 'Toyota',\n",
       " 'car model': 'corolla',\n",
       " 'year': 2021,\n",
       " 'transmission': 'automatic',\n",
       " 'steeringtype': 'left'}"
      ]
     },
     "execution_count": 14,
     "metadata": {},
     "output_type": "execute_result"
    }
   ],
   "source": [
    "car_make('Toyota', 'corolla', year=2021, transmission='automatic', steeringtype= 'left')"
   ]
  },
  {
   "cell_type": "markdown",
   "metadata": {},
   "source": [
    "# 8-15"
   ]
  },
  {
   "cell_type": "code",
   "execution_count": 15,
   "metadata": {},
   "outputs": [],
   "source": [
    "from printing_functions import print_models"
   ]
  },
  {
   "cell_type": "code",
   "execution_count": 16,
   "metadata": {},
   "outputs": [
    {
     "name": "stdout",
     "output_type": "stream",
     "text": [
      "the file is imported now\n"
     ]
    }
   ],
   "source": [
    "print_models()"
   ]
  }
 ],
 "metadata": {
  "kernelspec": {
   "display_name": "Python 3",
   "language": "python",
   "name": "python3"
  },
  "language_info": {
   "codemirror_mode": {
    "name": "ipython",
    "version": 3
   },
   "file_extension": ".py",
   "mimetype": "text/x-python",
   "name": "python",
   "nbconvert_exporter": "python",
   "pygments_lexer": "ipython3",
   "version": "3.8.5"
  }
 },
 "nbformat": 4,
 "nbformat_minor": 4
}
