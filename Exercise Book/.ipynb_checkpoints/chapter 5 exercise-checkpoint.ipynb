{
 "cells": [
  {
   "cell_type": "markdown",
   "metadata": {},
   "source": [
    "# 5-1"
   ]
  },
  {
   "cell_type": "code",
   "execution_count": 12,
   "metadata": {},
   "outputs": [
    {
     "name": "stdout",
     "output_type": "stream",
     "text": [
      "False\n",
      "True\n",
      "False\n",
      "True\n",
      "True\n",
      "False\n",
      "False\n",
      "True\n",
      "False\n",
      "False\n"
     ]
    }
   ],
   "source": [
    "a=2\n",
    "b=4\n",
    "employee=['Arish','Ali']\n",
    "print('Arish' == employee)\n",
    "print('Arish' != employee)\n",
    "print(a is b)\n",
    "print(a is not b)\n",
    "print('Arish' in employee)\n",
    "print('Arish' not in employee)\n",
    "print(a == b)\n",
    "print(a < b)\n",
    "print(a > b)\n",
    "print(a == b)"
   ]
  },
  {
   "cell_type": "markdown",
   "metadata": {},
   "source": [
    "# 5-2"
   ]
  },
  {
   "cell_type": "code",
   "execution_count": 17,
   "metadata": {},
   "outputs": [
    {
     "name": "stdout",
     "output_type": "stream",
     "text": [
      "False\n",
      "True\n",
      "arish\n",
      "False\n",
      "True\n",
      "False\n",
      "True\n",
      "True\n",
      "False\n"
     ]
    }
   ],
   "source": [
    "employees='Arish'\n",
    "employee=['Arish','Ali']\n",
    "a=2\n",
    "b=4\n",
    "print(a == b)\n",
    "print(a != b)\n",
    "print(employees.lower())\n",
    "print(a > b)\n",
    "print(a < b)\n",
    "print(a >= b)\n",
    "print(a <= b)\n",
    "print('Arish' in employee)\n",
    "print('Arish' not in employee)"
   ]
  },
  {
   "cell_type": "markdown",
   "metadata": {},
   "source": [
    "# 5-3"
   ]
  },
  {
   "cell_type": "code",
   "execution_count": 22,
   "metadata": {},
   "outputs": [
    {
     "name": "stdout",
     "output_type": "stream",
     "text": [
      "The alien just earned 5 points\n"
     ]
    }
   ],
   "source": [
    "alien_color = ['green', 'yellow','red']\n",
    "alienshot ='green'\n",
    "if alienshot in alien_color:\n",
    "    print(\"The alien just earned 5 points\")\n",
    "else:\n",
    "    print(\"sorry you fail\")"
   ]
  },
  {
   "cell_type": "markdown",
   "metadata": {},
   "source": [
    "# 5-4"
   ]
  },
  {
   "cell_type": "code",
   "execution_count": 24,
   "metadata": {},
   "outputs": [
    {
     "name": "stdout",
     "output_type": "stream",
     "text": [
      "the player just earned 5 points for shooting the alien.\n"
     ]
    }
   ],
   "source": [
    "alien_color = ['green', 'yellow','red']\n",
    "alienshot ='green'\n",
    "if alienshot in alien_color:\n",
    "    print(\"the player just earned 5 points for shooting the alien.\")\n",
    "elif alienshot not in alien_color:\n",
    "    print(\"the player just earned 10 points for shooting the alien.\")\n",
    "else:\n",
    "    print(\"\")"
   ]
  },
  {
   "cell_type": "markdown",
   "metadata": {},
   "source": [
    "# 5-5"
   ]
  },
  {
   "cell_type": "code",
   "execution_count": 25,
   "metadata": {},
   "outputs": [
    {
     "name": "stdout",
     "output_type": "stream",
     "text": [
      "the player just earned 5 points for shooting the alien.\n"
     ]
    }
   ],
   "source": [
    "alien_color = ['green', 'yellow','red']\n",
    "alienshot ='green'\n",
    "if alienshot == 'green':\n",
    "    print(\"the player just earned 5 points for shooting the alien.\")\n",
    "if alienshot == 'yellow':\n",
    "    print(\"the player just earned 10 points for shooting the alien.\")\n",
    "if alienshot == 'red':\n",
    "    print(\"the player just earned 15 points for shooting the alien.\")"
   ]
  },
  {
   "cell_type": "markdown",
   "metadata": {},
   "source": [
    "# 5-6"
   ]
  },
  {
   "cell_type": "code",
   "execution_count": 30,
   "metadata": {},
   "outputs": [
    {
     "name": "stdout",
     "output_type": "stream",
     "text": [
      "the person is a elder.\n"
     ]
    }
   ],
   "source": [
    "variable_age=66\n",
    "if variable_age < 2:\n",
    "    print(\"the person is a baby.\")\n",
    "elif variable_age < 4 or variable_age == 2:\n",
    "    print(\"the person is toddler.\")\n",
    "elif variable_age < 13 or variable_age == 4:\n",
    "    print(\"the person is a kid.\")\n",
    "elif variable_age < 20 or variable_age == 13:\n",
    "    print(\"the person is a teenager.\")\n",
    "elif variable_age < 65 or variable_age == 20:\n",
    "    print(\"the person is a adult.\")\n",
    "elif variable_age > 65 or variable_age == 65:\n",
    "    print(\"the person is a elder.\")"
   ]
  },
  {
   "cell_type": "markdown",
   "metadata": {},
   "source": [
    "# 5-7"
   ]
  },
  {
   "cell_type": "code",
   "execution_count": 34,
   "metadata": {},
   "outputs": [
    {
     "name": "stdout",
     "output_type": "stream",
     "text": [
      "I really like orange\n",
      "I really like mango\n",
      "I really like banana\n",
      "I really like pineapple\n",
      "I really don't like grapes\n"
     ]
    }
   ],
   "source": [
    "favorite_fruits=['orange','mango','banana','pineapple']\n",
    "if 'orange' in favorite_fruits:\n",
    "    print(\"I really like orange\")\n",
    "if 'mango' in favorite_fruits:\n",
    "    print(\"I really like mango\")\n",
    "if 'banana' in favorite_fruits:\n",
    "    print(\"I really like banana\")\n",
    "if 'pineapple' in favorite_fruits:\n",
    "    print(\"I really like pineapple\")\n",
    "if 'grapes' not in favorite_fruits:\n",
    "    print(\"I really don't like grapes\")"
   ]
  },
  {
   "cell_type": "markdown",
   "metadata": {},
   "source": [
    "# 5-8"
   ]
  },
  {
   "cell_type": "code",
   "execution_count": 40,
   "metadata": {},
   "outputs": [
    {
     "name": "stdout",
     "output_type": "stream",
     "text": [
      "Hello admin, would you like to see a status report?\n",
      "\n",
      "Hello hammad ! thank you for logging in again.\n",
      "\n",
      "Hello warrior ! thank you for logging in again.\n",
      "\n",
      "Hello pubu ! thank you for logging in again.\n",
      "\n",
      "Hello mama ! thank you for logging in again.\n",
      "\n"
     ]
    }
   ],
   "source": [
    "listusers=['admin','hammad','warrior','pubu','mama']\n",
    "for listuser in listusers:\n",
    "    if listuser == 'admin':\n",
    "        print(\"Hello admin, would you like to see a status report?\\n\")\n",
    "    elif listuser != 'admin':\n",
    "        print(\"Hello \" + listuser + \" ! thank you for logging in again.\\n\")"
   ]
  },
  {
   "cell_type": "markdown",
   "metadata": {},
   "source": [
    "# 5-9"
   ]
  },
  {
   "cell_type": "code",
   "execution_count": 108,
   "metadata": {},
   "outputs": [],
   "source": [
    "listusers = ['arish','ilma']\n",
    "if '' in listuser:\n",
    "    listusers.remove('arish')\n",
    "else:\n",
    "    print(\"we need some users\")"
   ]
  },
  {
   "cell_type": "markdown",
   "metadata": {},
   "source": [
    "# 5-10"
   ]
  },
  {
   "cell_type": "code",
   "execution_count": 139,
   "metadata": {},
   "outputs": [
    {
     "name": "stdout",
     "output_type": "stream",
     "text": [
      "john username has already been used.\n",
      "arish username has already been used.\n",
      "ilma username is available\n",
      "muhib username has already been used.\n"
     ]
    }
   ],
   "source": [
    "current_users = ['john','arish','ilma','muhib']\n",
    "new_users = ['JOHN','ARISH','pubu','muhib']\n",
    "\n",
    "for current_user in current_users:\n",
    "    if current_user not in new_users and current_user.upper() not in new_users:\n",
    "        print(current_user,\"username is available\")\n",
    "    elif current_user in new_users or current_user.upper() in new_users:\n",
    "        print(current_user,\"username has already been used.\")"
   ]
  },
  {
   "cell_type": "markdown",
   "metadata": {},
   "source": [
    "# 5-11"
   ]
  },
  {
   "cell_type": "code",
   "execution_count": 133,
   "metadata": {},
   "outputs": [
    {
     "name": "stdout",
     "output_type": "stream",
     "text": [
      "1st\n",
      "2nd\n",
      "3rd\n",
      "4th\n",
      "5th\n",
      "6th\n",
      "7th\n",
      "8th\n",
      "9th\n"
     ]
    }
   ],
   "source": [
    "ordinalnum = ['1st','2nd','3rd','4th','5th','6th','7th','8th','9th']\n",
    "for num in ordinalnum:\n",
    "    print(num)\n",
    "\n"
   ]
  },
  {
   "cell_type": "code",
   "execution_count": null,
   "metadata": {},
   "outputs": [],
   "source": []
  },
  {
   "cell_type": "code",
   "execution_count": null,
   "metadata": {},
   "outputs": [],
   "source": []
  },
  {
   "cell_type": "code",
   "execution_count": null,
   "metadata": {},
   "outputs": [],
   "source": []
  },
  {
   "cell_type": "code",
   "execution_count": null,
   "metadata": {},
   "outputs": [],
   "source": []
  },
  {
   "cell_type": "code",
   "execution_count": null,
   "metadata": {},
   "outputs": [],
   "source": []
  },
  {
   "cell_type": "code",
   "execution_count": null,
   "metadata": {},
   "outputs": [],
   "source": []
  },
  {
   "cell_type": "code",
   "execution_count": null,
   "metadata": {},
   "outputs": [],
   "source": []
  }
 ],
 "metadata": {
  "kernelspec": {
   "display_name": "Python 3",
   "language": "python",
   "name": "python3"
  },
  "language_info": {
   "codemirror_mode": {
    "name": "ipython",
    "version": 3
   },
   "file_extension": ".py",
   "mimetype": "text/x-python",
   "name": "python",
   "nbconvert_exporter": "python",
   "pygments_lexer": "ipython3",
   "version": "3.8.5"
  }
 },
 "nbformat": 4,
 "nbformat_minor": 4
}
