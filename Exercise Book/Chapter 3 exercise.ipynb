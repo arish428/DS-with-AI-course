{
 "cells": [
  {
   "cell_type": "markdown",
   "metadata": {},
   "source": [
    "# 3-1"
   ]
  },
  {
   "cell_type": "code",
   "execution_count": 2,
   "metadata": {},
   "outputs": [
    {
     "name": "stdout",
     "output_type": "stream",
     "text": [
      "arish\n",
      "khan\n",
      "ali\n"
     ]
    }
   ],
   "source": [
    "Names = ['arish','khan','muhib','ali']\n",
    "print(Names[0])\n",
    "print(Names[1])\n",
    "print(Names[3])"
   ]
  },
  {
   "cell_type": "markdown",
   "metadata": {},
   "source": [
    "# 3-2"
   ]
  },
  {
   "cell_type": "code",
   "execution_count": 5,
   "metadata": {},
   "outputs": [
    {
     "name": "stdout",
     "output_type": "stream",
     "text": [
      "Hello arish\n",
      "Hello khan\n",
      "Hello muhib\n"
     ]
    }
   ],
   "source": [
    "Names = ['arish','khan','muhib','ali']\n",
    "print('Hello ' + Names[0])\n",
    "print('Hello ' + Names[1])\n",
    "print('Hello ' + Names[2])"
   ]
  },
  {
   "cell_type": "markdown",
   "metadata": {},
   "source": [
    "# 3-3"
   ]
  },
  {
   "cell_type": "code",
   "execution_count": 6,
   "metadata": {},
   "outputs": [
    {
     "name": "stdout",
     "output_type": "stream",
     "text": [
      "I would like to own a Honda Motorcycle\n",
      "I would like to own a Bugatti car\n",
      "I would like to own a Tesla Truck\n"
     ]
    }
   ],
   "source": [
    "Transportation = ['Honda Motorcycle','Bugatti car','Tesla Truck','Boeing Business jet']\n",
    "print(\"I would like to own a \" + Transportation[0])\n",
    "print(\"I would like to own a \" + Transportation[1])\n",
    "print(\"I would like to own a \" + Transportation[2])"
   ]
  },
  {
   "cell_type": "markdown",
   "metadata": {},
   "source": [
    "# 3-4"
   ]
  },
  {
   "cell_type": "code",
   "execution_count": 11,
   "metadata": {},
   "outputs": [
    {
     "name": "stdout",
     "output_type": "stream",
     "text": [
      "Arishis invited to the party\n",
      "Fahadis invited to the party\n",
      "Osamais invited to the party\n"
     ]
    }
   ],
   "source": [
    "invitedpeople=['Arish','Fahad','Osama']\n",
    "print( invitedpeople[0] +'is invited to the party')\n",
    "print( invitedpeople[1] +'is invited to the party')\n",
    "print (invitedpeople[2] +'is invited to the party')"
   ]
  },
  {
   "cell_type": "markdown",
   "metadata": {},
   "source": [
    "# 3-5"
   ]
  },
  {
   "cell_type": "code",
   "execution_count": 16,
   "metadata": {},
   "outputs": [
    {
     "name": "stdout",
     "output_type": "stream",
     "text": [
      "Osama can't make dinner\n",
      "['Arish', 'Fahad']\n",
      "Ali can make dinner\n",
      "['Arish', 'Fahad', 'Ali']\n",
      "Arishis invited to the party\n",
      "Fahadis invited to the party\n",
      "Aliis invited to the party\n"
     ]
    }
   ],
   "source": [
    "invitedpeople = ['Arish','Fahad','Osama']\n",
    "print(\"Osama can't make dinner\")\n",
    "invitedpeople.remove('Osama')\n",
    "print(invitedpeople)\n",
    "print(\"Ali can make dinner\")\n",
    "invitedpeople.append('Ali')\n",
    "print(invitedpeople)\n",
    "print( invitedpeople[0] +'is invited to the party')\n",
    "print( invitedpeople[1] +'is invited to the party')\n",
    "print (invitedpeople[2] +'is invited to the party')"
   ]
  },
  {
   "cell_type": "markdown",
   "metadata": {},
   "source": [
    "# 3-6"
   ]
  },
  {
   "cell_type": "code",
   "execution_count": 33,
   "metadata": {},
   "outputs": [
    {
     "name": "stdout",
     "output_type": "stream",
     "text": [
      "The dining table is now bigger than before:\n",
      "Asad is invited to the party\n",
      "Arish is invited to the party\n",
      "Saad is invited to the party\n",
      "Fahad is invited to the party\n",
      "Osama is invited to the party\n"
     ]
    }
   ],
   "source": [
    "invitedpeople = ['Arish','Fahad','Osama']\n",
    "print('The dining table is now bigger than before:')\n",
    "invitedpeople.insert(0,\"Asad\")\n",
    "invitedpeople.insert(2,\"Saad\")\n",
    "invitedpeople.append(\"maya\")\n",
    "invitedpeople\n",
    "\n",
    "print( invitedpeople[0] +\" \"+'is invited to the party')\n",
    "print( invitedpeople[1] +\" \"+'is invited to the party')\n",
    "print (invitedpeople[2] +\" \"+'is invited to the party')\n",
    "print( invitedpeople[3] +\" \"+'is invited to the party')\n",
    "print( invitedpeople[4] +\" \"+'is invited to the party')"
   ]
  },
  {
   "cell_type": "markdown",
   "metadata": {},
   "source": [
    "# 3-7"
   ]
  },
  {
   "cell_type": "code",
   "execution_count": 48,
   "metadata": {},
   "outputs": [
    {
     "name": "stdout",
     "output_type": "stream",
     "text": [
      "['Arish', 'Fahad', 'Osama', 'Asad', 'Saad', 'maya']\n",
      "\n",
      "new dinner table won’t arrive in time for the dinner, and you have space for only two guests\n",
      "I can invite only 2 people\n",
      "\n",
      "['Arish', 'Fahad']\n",
      " \n",
      "  Arish and Fahad you both are still invited\n"
     ]
    }
   ],
   "source": [
    "invitedpeople = ['Arish','Fahad','Osama',\"Asad\",\"Saad\",\"maya\"]\n",
    "print(invitedpeople)\n",
    "print(\"\\nnew dinner table won’t arrive in time for the dinner, and you have space for only two guests\\nI can invite only 2 people\\n\")\n",
    "invitedpeople.pop()\n",
    "invitedpeople.pop()\n",
    "invitedpeople.pop()\n",
    "invitedpeople.pop()\n",
    "print(invitedpeople)\n",
    "print(\" \\n \", invitedpeople[0] + \" and \" + invitedpeople[1] +\" \"+'you both are still invited')"
   ]
  },
  {
   "cell_type": "markdown",
   "metadata": {},
   "source": [
    "# 3-8"
   ]
  },
  {
   "cell_type": "code",
   "execution_count": 64,
   "metadata": {},
   "outputs": [
    {
     "name": "stdout",
     "output_type": "stream",
     "text": [
      "['austria', 'canada', 'germany', 'pakistan', 'switzerland']\n",
      "['austria', 'canada', 'germany', 'pakistan', 'switzerland']\n",
      "['austria', 'switzerland', 'pakistan', 'germany', 'canada']\n",
      "['canada', 'germany', 'pakistan', 'switzerland', 'austria']\n",
      "['austria', 'canada', 'germany', 'pakistan', 'switzerland']\n",
      "['austria', 'canada', 'germany', 'pakistan', 'switzerland']\n"
     ]
    }
   ],
   "source": [
    "countries=['canada','germany','pakistan','switzerland','austria']\n",
    "print(sorted(countries))\n",
    "print(sorted(countries))\n",
    "countries.reverse()\n",
    "print(countries)\n",
    "countries.reverse()\n",
    "print(countries)\n",
    "countries.sort()\n",
    "print(countries)\n",
    "countries.sort()\n",
    "print(countries)"
   ]
  },
  {
   "cell_type": "markdown",
   "metadata": {},
   "source": [
    "# 3-9"
   ]
  },
  {
   "cell_type": "code",
   "execution_count": 67,
   "metadata": {},
   "outputs": [
    {
     "name": "stdout",
     "output_type": "stream",
     "text": [
      "i am inviting total: 3 friends\n",
      "i am inviting total: 6 friends\n"
     ]
    }
   ],
   "source": [
    "invitedpeople=['Arish','Fahad','Osama']\n",
    "print('i am inviting total: ' + str(len(invitedpeople)),'friends')\n",
    "\n",
    "new = ['Arish','Fahad','Osama',\"Asad\",\"Saad\",\"maya\"]\n",
    "print('i am inviting total: ' + str(len(new)),'friends')\n"
   ]
  },
  {
   "cell_type": "markdown",
   "metadata": {},
   "source": [
    "# 3-10"
   ]
  },
  {
   "cell_type": "code",
   "execution_count": 68,
   "metadata": {},
   "outputs": [
    {
     "name": "stdout",
     "output_type": "stream",
     "text": [
      "['canada', 'germany', 'pakistan', 'switzerland', 'austria']\n"
     ]
    }
   ],
   "source": [
    "countries=['canada','germany','pakistan','switzerland','austria']\n",
    "print(countries)"
   ]
  },
  {
   "cell_type": "code",
   "execution_count": null,
   "metadata": {},
   "outputs": [],
   "source": []
  }
 ],
 "metadata": {
  "kernelspec": {
   "display_name": "Python 3",
   "language": "python",
   "name": "python3"
  },
  "language_info": {
   "codemirror_mode": {
    "name": "ipython",
    "version": 3
   },
   "file_extension": ".py",
   "mimetype": "text/x-python",
   "name": "python",
   "nbconvert_exporter": "python",
   "pygments_lexer": "ipython3",
   "version": "3.8.5"
  }
 },
 "nbformat": 4,
 "nbformat_minor": 4
}
