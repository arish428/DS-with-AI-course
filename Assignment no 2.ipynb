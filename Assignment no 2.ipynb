{
 "cells": [
  {
   "cell_type": "markdown",
   "metadata": {},
   "source": [
    "# Assignment no 2"
   ]
  },
  {
   "cell_type": "code",
   "execution_count": 694,
   "metadata": {},
   "outputs": [
    {
     "ename": "IndentationError",
     "evalue": "expected an indented block (<ipython-input-694-9ff83557a91f>, line 57)",
     "output_type": "error",
     "traceback": [
      "\u001b[1;36m  File \u001b[1;32m\"<ipython-input-694-9ff83557a91f>\"\u001b[1;36m, line \u001b[1;32m57\u001b[0m\n\u001b[1;33m    print(string)\u001b[0m\n\u001b[1;37m    ^\u001b[0m\n\u001b[1;31mIndentationError\u001b[0m\u001b[1;31m:\u001b[0m expected an indented block\n"
     ]
    }
   ],
   "source": [
    "# %load Functionmodule.py    \n",
    "#1\n",
    "def count_letter_spacing(string_para):\n",
    "    '''count the letters with the spacing'''\n",
    "    length=len(string_para)\n",
    "    print('string length  :',length)\n",
    "    \n",
    "#2    \n",
    "def count_words(string_para):\n",
    "    '''count the words'''\n",
    "    f_str=string_para.split()\n",
    "    totalwords=len(f_str)\n",
    "    print('number of words used in the paragraph:',totalwords)\n",
    "    \n",
    "#3  \n",
    "def count_letter(string_para):\n",
    "    '''count the letters without spacing'''\n",
    "    spacing = ' '\n",
    "    count = 0 \n",
    "    for i in string_para:\n",
    "        if i is not spacing:\n",
    "            count = count + 1\n",
    "    print('number of letter used in the paragraph:' , count)\n",
    "            \n",
    "    \n",
    "#4                            \n",
    "def count_spacing(string_para):\n",
    "    '''count space in paragraph'''\n",
    "    count=0\n",
    "    spacing = ' '\n",
    "    for para in string_para:\n",
    "        if spacing is para:\n",
    "            count=count+1\n",
    "    print('the spacing used:',str(count))\n",
    "\n",
    "    \n",
    "#5    \n",
    "def count_punctuation(string_para):\n",
    "    '''count the punctuations \n",
    "    Enter the string in replacement of string_para'''\n",
    "    count=0\n",
    "    punct=['.','?',':',',',';','!','-','_']\n",
    "    for string in string_para:\n",
    "        if string in punct:\n",
    "            count = count+1\n",
    "    print('number of punctuations used in the paragraph:' , count)\n",
    "\n",
    "    \n",
    "#6\n",
    "def count_extract_punctuation(string_para):\n",
    "    '''count the punctuations \n",
    "    Enter the string in replacement of string_para'''\n",
    "    count=0\n",
    "    punct=['.','?',':',',',';','!','-','_']\n",
    "    for string in string_para:\n",
    "        if string not in punct:\n",
    "        print(string)    \n",
    "    \n",
    "    \n",
    "    \n",
    "    \n",
    "    \n",
    "    \n",
    "    \n",
    "    \n",
    "    \n",
    "    \n",
    "    \n",
    "    \n",
    "    \n",
    "    \n",
    "     "
   ]
  },
  {
   "cell_type": "code",
   "execution_count": 695,
   "metadata": {},
   "outputs": [],
   "source": [
    "%run Functionmodule.py"
   ]
  },
  {
   "cell_type": "code",
   "execution_count": 696,
   "metadata": {},
   "outputs": [],
   "source": [
    "import Functionmodule"
   ]
  },
  {
   "cell_type": "code",
   "execution_count": 697,
   "metadata": {},
   "outputs": [
    {
     "name": "stdout",
     "output_type": "stream",
     "text": [
      "number of words used in the paragraph: 5\n"
     ]
    }
   ],
   "source": [
    "count_words('My name is Arish Khan')"
   ]
  },
  {
   "cell_type": "code",
   "execution_count": 698,
   "metadata": {},
   "outputs": [
    {
     "name": "stdout",
     "output_type": "stream",
     "text": [
      "the spacing used: 4\n"
     ]
    }
   ],
   "source": [
    "count_spacing('My name is Arish Khan')"
   ]
  },
  {
   "cell_type": "code",
   "execution_count": 699,
   "metadata": {},
   "outputs": [
    {
     "name": "stdout",
     "output_type": "stream",
     "text": [
      "string length  : 21\n"
     ]
    }
   ],
   "source": [
    "count_letter_spacing('My name is Arish Khan')"
   ]
  },
  {
   "cell_type": "code",
   "execution_count": 700,
   "metadata": {},
   "outputs": [
    {
     "name": "stdout",
     "output_type": "stream",
     "text": [
      "number of letter used in the paragraph: 17\n"
     ]
    }
   ],
   "source": [
    "count_letter('My name is Arish Khan')"
   ]
  },
  {
   "cell_type": "code",
   "execution_count": 701,
   "metadata": {},
   "outputs": [
    {
     "name": "stdout",
     "output_type": "stream",
     "text": [
      "the spacing used: 10\n"
     ]
    }
   ],
   "source": [
    "count_spacing('My name is Arish Khan hdkahdwah ijldij lkjdlwd lkwkdalkda jsakdjl;as ')"
   ]
  },
  {
   "cell_type": "code",
   "execution_count": 702,
   "metadata": {},
   "outputs": [
    {
     "name": "stdout",
     "output_type": "stream",
     "text": [
      "number of punctuations used in the paragraph: 7\n"
     ]
    }
   ],
   "source": [
    "count_punctuation('there are fruits apple,banana,orange and pineapple. pine-apple. what is your name? Hurrah!')"
   ]
  },
  {
   "cell_type": "code",
   "execution_count": 703,
   "metadata": {},
   "outputs": [
    {
     "name": "stdout",
     "output_type": "stream",
     "text": [
      "there are fruits applebananaorange and pineapple pineapple what is your name Hurrah\n"
     ]
    }
   ],
   "source": [
    "count_extract_punctuation('there are fruits apple,banana,orange and pineapple. pine-apple. what is your name? Hurrah!')"
   ]
  },
  {
   "cell_type": "code",
   "execution_count": null,
   "metadata": {},
   "outputs": [],
   "source": []
  },
  {
   "cell_type": "code",
   "execution_count": null,
   "metadata": {},
   "outputs": [],
   "source": []
  },
  {
   "cell_type": "code",
   "execution_count": null,
   "metadata": {},
   "outputs": [],
   "source": []
  },
  {
   "cell_type": "code",
   "execution_count": null,
   "metadata": {},
   "outputs": [],
   "source": []
  }
 ],
 "metadata": {
  "kernelspec": {
   "display_name": "Python 3",
   "language": "python",
   "name": "python3"
  },
  "language_info": {
   "codemirror_mode": {
    "name": "ipython",
    "version": 3
   },
   "file_extension": ".py",
   "mimetype": "text/x-python",
   "name": "python",
   "nbconvert_exporter": "python",
   "pygments_lexer": "ipython3",
   "version": "3.8.5"
  }
 },
 "nbformat": 4,
 "nbformat_minor": 4
}
