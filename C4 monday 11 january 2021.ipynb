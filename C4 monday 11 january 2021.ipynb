{
 "cells": [
  {
   "cell_type": "code",
   "execution_count": null,
   "metadata": {},
   "outputs": [],
   "source": [
    "#1 git clone url of github\n",
    "\n",
    "# git dir  directory\n",
    "# git status nazar nhi arahi hai\n",
    "# git init\n",
    "\n",
    "# staging\n",
    "# git add .\n",
    "\n",
    "#3 changes saving\n",
    "# git commit -m \"initial commit\"\n",
    "# git log\n",
    "\n",
    "# staging again\n",
    "\n",
    "#4 git push end\n",
    "#5 git pull\n",
    "\n",
    "# again\n",
    "\n",
    "# again push\n",
    "\n",
    "# git config --global user.name \"name\""
   ]
  }
 ],
 "metadata": {
  "kernelspec": {
   "display_name": "Python 3",
   "language": "python",
   "name": "python3"
  },
  "language_info": {
   "codemirror_mode": {
    "name": "ipython",
    "version": 3
   },
   "file_extension": ".py",
   "mimetype": "text/x-python",
   "name": "python",
   "nbconvert_exporter": "python",
   "pygments_lexer": "ipython3",
   "version": "3.8.5"
  }
 },
 "nbformat": 4,
 "nbformat_minor": 4
}
